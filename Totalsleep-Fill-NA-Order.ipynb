{
 "cells": [
  {
   "cell_type": "code",
   "execution_count": 1,
   "id": "7a64a6c6",
   "metadata": {},
   "outputs": [],
   "source": [
    "import numpy as np\n",
    "import pandas as pd\n",
    "import matplotlib.pyplot as plt\n",
    "import seaborn as sns"
   ]
  },
  {
   "cell_type": "code",
   "execution_count": 2,
   "id": "e69526bc",
   "metadata": {},
   "outputs": [
    {
     "data": {
      "text/html": [
       "<div>\n",
       "<style scoped>\n",
       "    .dataframe tbody tr th:only-of-type {\n",
       "        vertical-align: middle;\n",
       "    }\n",
       "\n",
       "    .dataframe tbody tr th {\n",
       "        vertical-align: top;\n",
       "    }\n",
       "\n",
       "    .dataframe thead th {\n",
       "        text-align: right;\n",
       "    }\n",
       "</style>\n",
       "<table border=\"1\" class=\"dataframe\">\n",
       "  <thead>\n",
       "    <tr style=\"text-align: right;\">\n",
       "      <th></th>\n",
       "      <th>TotalSleep</th>\n",
       "      <th>Awake</th>\n",
       "      <th>NonDreaming</th>\n",
       "      <th>Dreaming</th>\n",
       "      <th>Order</th>\n",
       "      <th>Family</th>\n",
       "      <th>Genus</th>\n",
       "      <th>Species</th>\n",
       "      <th>Vore</th>\n",
       "      <th>Conservation</th>\n",
       "      <th>BodyWt</th>\n",
       "      <th>BrainWt</th>\n",
       "      <th>LifeSpan</th>\n",
       "      <th>Gestation</th>\n",
       "      <th>Predation</th>\n",
       "      <th>Exposure</th>\n",
       "      <th>Danger</th>\n",
       "    </tr>\n",
       "  </thead>\n",
       "  <tbody>\n",
       "    <tr>\n",
       "      <th>0</th>\n",
       "      <td>7.7</td>\n",
       "      <td>16.3</td>\n",
       "      <td>NaN</td>\n",
       "      <td>0.9</td>\n",
       "      <td>Rodentia</td>\n",
       "      <td>Octodontidae</td>\n",
       "      <td>Octodon</td>\n",
       "      <td>Degu</td>\n",
       "      <td>herbi</td>\n",
       "      <td>lc</td>\n",
       "      <td>0.210</td>\n",
       "      <td>0.00</td>\n",
       "      <td>NaN</td>\n",
       "      <td>NaN</td>\n",
       "      <td>NaN</td>\n",
       "      <td>NaN</td>\n",
       "      <td>NaN</td>\n",
       "    </tr>\n",
       "    <tr>\n",
       "      <th>1</th>\n",
       "      <td>17.0</td>\n",
       "      <td>7.0</td>\n",
       "      <td>15.2</td>\n",
       "      <td>1.8</td>\n",
       "      <td>Primates</td>\n",
       "      <td>Aotidae</td>\n",
       "      <td>Aotus</td>\n",
       "      <td>Owl monkey</td>\n",
       "      <td>omni</td>\n",
       "      <td>NaN</td>\n",
       "      <td>0.480</td>\n",
       "      <td>15.50</td>\n",
       "      <td>12.0</td>\n",
       "      <td>140.0</td>\n",
       "      <td>2.0</td>\n",
       "      <td>2.0</td>\n",
       "      <td>2.0</td>\n",
       "    </tr>\n",
       "    <tr>\n",
       "      <th>2</th>\n",
       "      <td>14.4</td>\n",
       "      <td>9.6</td>\n",
       "      <td>8.4</td>\n",
       "      <td>2.8</td>\n",
       "      <td>Rodentia</td>\n",
       "      <td>Aplodontiidae</td>\n",
       "      <td>Aplodontia</td>\n",
       "      <td>Mountain beaver</td>\n",
       "      <td>herbi</td>\n",
       "      <td>nt</td>\n",
       "      <td>1.350</td>\n",
       "      <td>8.10</td>\n",
       "      <td>NaN</td>\n",
       "      <td>45.0</td>\n",
       "      <td>3.0</td>\n",
       "      <td>1.0</td>\n",
       "      <td>3.0</td>\n",
       "    </tr>\n",
       "    <tr>\n",
       "      <th>3</th>\n",
       "      <td>4.0</td>\n",
       "      <td>20.0</td>\n",
       "      <td>3.2</td>\n",
       "      <td>0.7</td>\n",
       "      <td>Artiodactyla</td>\n",
       "      <td>Bovidae</td>\n",
       "      <td>Bos</td>\n",
       "      <td>Cow</td>\n",
       "      <td>herbi</td>\n",
       "      <td>domesticated</td>\n",
       "      <td>600.000</td>\n",
       "      <td>423.00</td>\n",
       "      <td>30.0</td>\n",
       "      <td>281.0</td>\n",
       "      <td>5.0</td>\n",
       "      <td>5.0</td>\n",
       "      <td>5.0</td>\n",
       "    </tr>\n",
       "    <tr>\n",
       "      <th>4</th>\n",
       "      <td>5.3</td>\n",
       "      <td>18.7</td>\n",
       "      <td>3.3</td>\n",
       "      <td>0.5</td>\n",
       "      <td>Artiodactyla</td>\n",
       "      <td>Bovidae</td>\n",
       "      <td>Capri</td>\n",
       "      <td>Goat</td>\n",
       "      <td>herbi</td>\n",
       "      <td>lc</td>\n",
       "      <td>33.500</td>\n",
       "      <td>115.00</td>\n",
       "      <td>20.0</td>\n",
       "      <td>148.0</td>\n",
       "      <td>5.0</td>\n",
       "      <td>5.0</td>\n",
       "      <td>5.0</td>\n",
       "    </tr>\n",
       "    <tr>\n",
       "      <th>...</th>\n",
       "      <td>...</td>\n",
       "      <td>...</td>\n",
       "      <td>...</td>\n",
       "      <td>...</td>\n",
       "      <td>...</td>\n",
       "      <td>...</td>\n",
       "      <td>...</td>\n",
       "      <td>...</td>\n",
       "      <td>...</td>\n",
       "      <td>...</td>\n",
       "      <td>...</td>\n",
       "      <td>...</td>\n",
       "      <td>...</td>\n",
       "      <td>...</td>\n",
       "      <td>...</td>\n",
       "      <td>...</td>\n",
       "      <td>...</td>\n",
       "    </tr>\n",
       "    <tr>\n",
       "      <th>82</th>\n",
       "      <td>15.6</td>\n",
       "      <td>8.4</td>\n",
       "      <td>11.0</td>\n",
       "      <td>2.3</td>\n",
       "      <td>Afrosoricida</td>\n",
       "      <td>Tenrecidae</td>\n",
       "      <td>Tenrec</td>\n",
       "      <td>Tenrec</td>\n",
       "      <td>omni</td>\n",
       "      <td>NaN</td>\n",
       "      <td>0.900</td>\n",
       "      <td>2.60</td>\n",
       "      <td>4.5</td>\n",
       "      <td>60.0</td>\n",
       "      <td>2.0</td>\n",
       "      <td>1.0</td>\n",
       "      <td>2.0</td>\n",
       "    </tr>\n",
       "    <tr>\n",
       "      <th>83</th>\n",
       "      <td>8.9</td>\n",
       "      <td>15.1</td>\n",
       "      <td>13.2</td>\n",
       "      <td>2.6</td>\n",
       "      <td>Scandentia</td>\n",
       "      <td>Tupaiidae</td>\n",
       "      <td>Tupaia</td>\n",
       "      <td>Tree shrew</td>\n",
       "      <td>omni</td>\n",
       "      <td>NaN</td>\n",
       "      <td>0.104</td>\n",
       "      <td>2.50</td>\n",
       "      <td>2.3</td>\n",
       "      <td>46.0</td>\n",
       "      <td>3.0</td>\n",
       "      <td>2.0</td>\n",
       "      <td>2.0</td>\n",
       "    </tr>\n",
       "    <tr>\n",
       "      <th>84</th>\n",
       "      <td>19.7</td>\n",
       "      <td>4.3</td>\n",
       "      <td>15.8</td>\n",
       "      <td>3.9</td>\n",
       "      <td>Chiroptera</td>\n",
       "      <td>Vespertilionidae</td>\n",
       "      <td>Eptesicus</td>\n",
       "      <td>Big brown bat</td>\n",
       "      <td>insecti</td>\n",
       "      <td>lc</td>\n",
       "      <td>0.023</td>\n",
       "      <td>0.30</td>\n",
       "      <td>19.0</td>\n",
       "      <td>35.0</td>\n",
       "      <td>1.0</td>\n",
       "      <td>1.0</td>\n",
       "      <td>1.0</td>\n",
       "    </tr>\n",
       "    <tr>\n",
       "      <th>85</th>\n",
       "      <td>19.9</td>\n",
       "      <td>4.1</td>\n",
       "      <td>17.9</td>\n",
       "      <td>2.0</td>\n",
       "      <td>Chiroptera</td>\n",
       "      <td>Vespertilionidae</td>\n",
       "      <td>Myotis</td>\n",
       "      <td>Little brown bat</td>\n",
       "      <td>insecti</td>\n",
       "      <td>NaN</td>\n",
       "      <td>0.010</td>\n",
       "      <td>0.25</td>\n",
       "      <td>24.0</td>\n",
       "      <td>50.0</td>\n",
       "      <td>1.0</td>\n",
       "      <td>1.0</td>\n",
       "      <td>1.0</td>\n",
       "    </tr>\n",
       "    <tr>\n",
       "      <th>86</th>\n",
       "      <td>6.3</td>\n",
       "      <td>17.7</td>\n",
       "      <td>4.8</td>\n",
       "      <td>1.3</td>\n",
       "      <td>Carnivora</td>\n",
       "      <td>Viverridae</td>\n",
       "      <td>Genetta</td>\n",
       "      <td>Genet</td>\n",
       "      <td>carni</td>\n",
       "      <td>NaN</td>\n",
       "      <td>2.000</td>\n",
       "      <td>17.50</td>\n",
       "      <td>34.0</td>\n",
       "      <td>NaN</td>\n",
       "      <td>1.0</td>\n",
       "      <td>2.0</td>\n",
       "      <td>1.0</td>\n",
       "    </tr>\n",
       "  </tbody>\n",
       "</table>\n",
       "<p>87 rows × 17 columns</p>\n",
       "</div>"
      ],
      "text/plain": [
       "    TotalSleep  Awake  NonDreaming  Dreaming         Order            Family  \\\n",
       "0          7.7   16.3          NaN       0.9      Rodentia      Octodontidae   \n",
       "1         17.0    7.0         15.2       1.8      Primates           Aotidae   \n",
       "2         14.4    9.6          8.4       2.8      Rodentia     Aplodontiidae   \n",
       "3          4.0   20.0          3.2       0.7  Artiodactyla           Bovidae   \n",
       "4          5.3   18.7          3.3       0.5  Artiodactyla           Bovidae   \n",
       "..         ...    ...          ...       ...           ...               ...   \n",
       "82        15.6    8.4         11.0       2.3  Afrosoricida        Tenrecidae   \n",
       "83         8.9   15.1         13.2       2.6    Scandentia         Tupaiidae   \n",
       "84        19.7    4.3         15.8       3.9    Chiroptera  Vespertilionidae   \n",
       "85        19.9    4.1         17.9       2.0    Chiroptera  Vespertilionidae   \n",
       "86         6.3   17.7          4.8       1.3     Carnivora        Viverridae   \n",
       "\n",
       "         Genus           Species     Vore  Conservation   BodyWt  BrainWt  \\\n",
       "0      Octodon              Degu    herbi            lc    0.210     0.00   \n",
       "1        Aotus        Owl monkey     omni           NaN    0.480    15.50   \n",
       "2   Aplodontia   Mountain beaver    herbi            nt    1.350     8.10   \n",
       "3          Bos               Cow    herbi  domesticated  600.000   423.00   \n",
       "4        Capri              Goat    herbi            lc   33.500   115.00   \n",
       "..         ...               ...      ...           ...      ...      ...   \n",
       "82      Tenrec            Tenrec     omni           NaN    0.900     2.60   \n",
       "83      Tupaia        Tree shrew     omni           NaN    0.104     2.50   \n",
       "84   Eptesicus     Big brown bat  insecti            lc    0.023     0.30   \n",
       "85      Myotis  Little brown bat  insecti           NaN    0.010     0.25   \n",
       "86     Genetta             Genet    carni           NaN    2.000    17.50   \n",
       "\n",
       "    LifeSpan  Gestation  Predation  Exposure  Danger  \n",
       "0        NaN        NaN        NaN       NaN     NaN  \n",
       "1       12.0      140.0        2.0       2.0     2.0  \n",
       "2        NaN       45.0        3.0       1.0     3.0  \n",
       "3       30.0      281.0        5.0       5.0     5.0  \n",
       "4       20.0      148.0        5.0       5.0     5.0  \n",
       "..       ...        ...        ...       ...     ...  \n",
       "82       4.5       60.0        2.0       1.0     2.0  \n",
       "83       2.3       46.0        3.0       2.0     2.0  \n",
       "84      19.0       35.0        1.0       1.0     1.0  \n",
       "85      24.0       50.0        1.0       1.0     1.0  \n",
       "86      34.0        NaN        1.0       2.0     1.0  \n",
       "\n",
       "[87 rows x 17 columns]"
      ]
     },
     "execution_count": 2,
     "metadata": {},
     "output_type": "execute_result"
    }
   ],
   "source": [
    "df = pd.read_excel(\"C:/Users/kacik/Documents/Famille_Taxonomie.xlsx\")\n",
    "df"
   ]
  },
  {
   "cell_type": "code",
   "execution_count": 3,
   "id": "25b4e163",
   "metadata": {},
   "outputs": [
    {
     "data": {
      "text/html": [
       "<div>\n",
       "<style scoped>\n",
       "    .dataframe tbody tr th:only-of-type {\n",
       "        vertical-align: middle;\n",
       "    }\n",
       "\n",
       "    .dataframe tbody tr th {\n",
       "        vertical-align: top;\n",
       "    }\n",
       "\n",
       "    .dataframe thead th {\n",
       "        text-align: right;\n",
       "    }\n",
       "</style>\n",
       "<table border=\"1\" class=\"dataframe\">\n",
       "  <thead>\n",
       "    <tr style=\"text-align: right;\">\n",
       "      <th></th>\n",
       "      <th>TotalSleep</th>\n",
       "      <th>Awake</th>\n",
       "      <th>NonDreaming</th>\n",
       "      <th>Dreaming</th>\n",
       "      <th>Order</th>\n",
       "      <th>Family</th>\n",
       "      <th>Genus</th>\n",
       "      <th>Species</th>\n",
       "      <th>Vore</th>\n",
       "      <th>Conservation</th>\n",
       "      <th>BodyWt</th>\n",
       "      <th>BrainWt</th>\n",
       "      <th>LifeSpan</th>\n",
       "      <th>Gestation</th>\n",
       "      <th>Predation</th>\n",
       "      <th>Exposure</th>\n",
       "      <th>Danger</th>\n",
       "    </tr>\n",
       "  </thead>\n",
       "  <tbody>\n",
       "    <tr>\n",
       "      <th>0</th>\n",
       "      <td>7.7</td>\n",
       "      <td>16.3</td>\n",
       "      <td>NaN</td>\n",
       "      <td>0.9</td>\n",
       "      <td>Rodentia</td>\n",
       "      <td>Octodontidae</td>\n",
       "      <td>Octodon</td>\n",
       "      <td>Degu</td>\n",
       "      <td>herbi</td>\n",
       "      <td>lc</td>\n",
       "      <td>0.21</td>\n",
       "      <td>0.0</td>\n",
       "      <td>NaN</td>\n",
       "      <td>NaN</td>\n",
       "      <td>NaN</td>\n",
       "      <td>NaN</td>\n",
       "      <td>NaN</td>\n",
       "    </tr>\n",
       "    <tr>\n",
       "      <th>1</th>\n",
       "      <td>17.0</td>\n",
       "      <td>7.0</td>\n",
       "      <td>15.2</td>\n",
       "      <td>1.8</td>\n",
       "      <td>Primates</td>\n",
       "      <td>Aotidae</td>\n",
       "      <td>Aotus</td>\n",
       "      <td>Owl monkey</td>\n",
       "      <td>omni</td>\n",
       "      <td>NaN</td>\n",
       "      <td>0.48</td>\n",
       "      <td>15.5</td>\n",
       "      <td>12.0</td>\n",
       "      <td>140.0</td>\n",
       "      <td>2.0</td>\n",
       "      <td>2.0</td>\n",
       "      <td>2.0</td>\n",
       "    </tr>\n",
       "    <tr>\n",
       "      <th>2</th>\n",
       "      <td>14.4</td>\n",
       "      <td>9.6</td>\n",
       "      <td>8.4</td>\n",
       "      <td>2.8</td>\n",
       "      <td>Rodentia</td>\n",
       "      <td>Aplodontiidae</td>\n",
       "      <td>Aplodontia</td>\n",
       "      <td>Mountain beaver</td>\n",
       "      <td>herbi</td>\n",
       "      <td>nt</td>\n",
       "      <td>1.35</td>\n",
       "      <td>8.1</td>\n",
       "      <td>NaN</td>\n",
       "      <td>45.0</td>\n",
       "      <td>3.0</td>\n",
       "      <td>1.0</td>\n",
       "      <td>3.0</td>\n",
       "    </tr>\n",
       "    <tr>\n",
       "      <th>3</th>\n",
       "      <td>4.0</td>\n",
       "      <td>20.0</td>\n",
       "      <td>3.2</td>\n",
       "      <td>0.7</td>\n",
       "      <td>Artiodactyla</td>\n",
       "      <td>Bovidae</td>\n",
       "      <td>Bos</td>\n",
       "      <td>Cow</td>\n",
       "      <td>herbi</td>\n",
       "      <td>domesticated</td>\n",
       "      <td>600.00</td>\n",
       "      <td>423.0</td>\n",
       "      <td>30.0</td>\n",
       "      <td>281.0</td>\n",
       "      <td>5.0</td>\n",
       "      <td>5.0</td>\n",
       "      <td>5.0</td>\n",
       "    </tr>\n",
       "    <tr>\n",
       "      <th>4</th>\n",
       "      <td>5.3</td>\n",
       "      <td>18.7</td>\n",
       "      <td>3.3</td>\n",
       "      <td>0.5</td>\n",
       "      <td>Artiodactyla</td>\n",
       "      <td>Bovidae</td>\n",
       "      <td>Capri</td>\n",
       "      <td>Goat</td>\n",
       "      <td>herbi</td>\n",
       "      <td>lc</td>\n",
       "      <td>33.50</td>\n",
       "      <td>115.0</td>\n",
       "      <td>20.0</td>\n",
       "      <td>148.0</td>\n",
       "      <td>5.0</td>\n",
       "      <td>5.0</td>\n",
       "      <td>5.0</td>\n",
       "    </tr>\n",
       "  </tbody>\n",
       "</table>\n",
       "</div>"
      ],
      "text/plain": [
       "   TotalSleep  Awake  NonDreaming  Dreaming         Order         Family  \\\n",
       "0         7.7   16.3          NaN       0.9      Rodentia   Octodontidae   \n",
       "1        17.0    7.0         15.2       1.8      Primates        Aotidae   \n",
       "2        14.4    9.6          8.4       2.8      Rodentia  Aplodontiidae   \n",
       "3         4.0   20.0          3.2       0.7  Artiodactyla        Bovidae   \n",
       "4         5.3   18.7          3.3       0.5  Artiodactyla        Bovidae   \n",
       "\n",
       "        Genus          Species   Vore  Conservation  BodyWt  BrainWt  \\\n",
       "0     Octodon             Degu  herbi            lc    0.21      0.0   \n",
       "1       Aotus       Owl monkey   omni           NaN    0.48     15.5   \n",
       "2  Aplodontia  Mountain beaver  herbi            nt    1.35      8.1   \n",
       "3         Bos              Cow  herbi  domesticated  600.00    423.0   \n",
       "4       Capri             Goat  herbi            lc   33.50    115.0   \n",
       "\n",
       "   LifeSpan  Gestation  Predation  Exposure  Danger  \n",
       "0       NaN        NaN        NaN       NaN     NaN  \n",
       "1      12.0      140.0        2.0       2.0     2.0  \n",
       "2       NaN       45.0        3.0       1.0     3.0  \n",
       "3      30.0      281.0        5.0       5.0     5.0  \n",
       "4      20.0      148.0        5.0       5.0     5.0  "
      ]
     },
     "execution_count": 3,
     "metadata": {},
     "output_type": "execute_result"
    }
   ],
   "source": [
    "df=df.dropna(how='all')\n",
    "df.reset_index(drop=True,inplace=True)\n",
    "df.head(5)\n",
    "\n"
   ]
  },
  {
   "cell_type": "code",
   "execution_count": 4,
   "id": "215150eb",
   "metadata": {},
   "outputs": [
    {
     "data": {
      "text/plain": [
       "(87, 17)"
      ]
     },
     "execution_count": 4,
     "metadata": {},
     "output_type": "execute_result"
    }
   ],
   "source": [
    "df.shape"
   ]
  },
  {
   "cell_type": "code",
   "execution_count": 5,
   "id": "710340e4",
   "metadata": {},
   "outputs": [
    {
     "data": {
      "text/plain": [
       "2"
      ]
     },
     "execution_count": 5,
     "metadata": {},
     "output_type": "execute_result"
    }
   ],
   "source": [
    "df.groupby(by=[\"Order\"])['Predation'].mean().isna().sum()"
   ]
  },
  {
   "cell_type": "code",
   "execution_count": 6,
   "id": "8d67273a",
   "metadata": {},
   "outputs": [
    {
     "data": {
      "text/plain": [
       "Order\n",
       "Afrosoricida       2.000000\n",
       "Artiodactyla       4.833333\n",
       "Carnivora          1.125000\n",
       "Cetacea                 NaN\n",
       "Chiroptera         1.000000\n",
       "Cingulata          1.500000\n",
       "Didelphimorphia    2.000000\n",
       "Diprotodontia      2.000000\n",
       "Erinaceomorpha     2.000000\n",
       "Hyracoidea         3.000000\n",
       "Lagomorpha         5.000000\n",
       "Monotremata        2.000000\n",
       "Perissodactyla     4.666667\n",
       "Pilosa                  NaN\n",
       "Primates           2.300000\n",
       "Proboscidea        3.000000\n",
       "Rodentia           3.800000\n",
       "Scandentia         3.000000\n",
       "Soricomorpha       3.250000\n",
       "Name: Predation, dtype: float64"
      ]
     },
     "execution_count": 6,
     "metadata": {},
     "output_type": "execute_result"
    }
   ],
   "source": [
    "df.groupby(by=[\"Order\"])['Predation'].mean()"
   ]
  },
  {
   "cell_type": "code",
   "execution_count": 7,
   "id": "ba0e1a8e",
   "metadata": {},
   "outputs": [
    {
     "data": {
      "text/plain": [
       "Order\n",
       "Afrosoricida       1.000000\n",
       "Artiodactyla       4.833333\n",
       "Carnivora          1.625000\n",
       "Cetacea                 NaN\n",
       "Chiroptera         1.000000\n",
       "Cingulata          1.000000\n",
       "Didelphimorphia    1.000000\n",
       "Diprotodontia      1.000000\n",
       "Erinaceomorpha     1.500000\n",
       "Hyracoidea         1.500000\n",
       "Lagomorpha         5.000000\n",
       "Monotremata        2.000000\n",
       "Perissodactyla     5.000000\n",
       "Pilosa                  NaN\n",
       "Primates           2.600000\n",
       "Proboscidea        5.000000\n",
       "Rodentia           1.600000\n",
       "Scandentia         2.000000\n",
       "Soricomorpha       1.250000\n",
       "Name: Exposure, dtype: float64"
      ]
     },
     "execution_count": 7,
     "metadata": {},
     "output_type": "execute_result"
    }
   ],
   "source": [
    "df.groupby(by=[\"Order\"])['Exposure'].mean()"
   ]
  },
  {
   "cell_type": "code",
   "execution_count": 8,
   "id": "86f19277",
   "metadata": {},
   "outputs": [
    {
     "data": {
      "text/plain": [
       "Order\n",
       "Afrosoricida       2.000000\n",
       "Artiodactyla       4.833333\n",
       "Carnivora          1.125000\n",
       "Cetacea                 NaN\n",
       "Chiroptera         1.000000\n",
       "Cingulata          1.000000\n",
       "Didelphimorphia    1.000000\n",
       "Diprotodontia      2.000000\n",
       "Erinaceomorpha     2.000000\n",
       "Hyracoidea         3.000000\n",
       "Lagomorpha         5.000000\n",
       "Monotremata        2.000000\n",
       "Perissodactyla     4.666667\n",
       "Pilosa                  NaN\n",
       "Primates           2.300000\n",
       "Proboscidea        3.500000\n",
       "Rodentia           2.900000\n",
       "Scandentia         2.000000\n",
       "Soricomorpha       2.500000\n",
       "Name: Danger, dtype: float64"
      ]
     },
     "execution_count": 8,
     "metadata": {},
     "output_type": "execute_result"
    }
   ],
   "source": [
    "df.groupby(by=[\"Order\"])['Danger'].mean()"
   ]
  },
  {
   "cell_type": "code",
   "execution_count": 9,
   "id": "d7a287dd",
   "metadata": {},
   "outputs": [
    {
     "data": {
      "text/plain": [
       "Order\n",
       "Afrosoricida        60.000000\n",
       "Artiodactyla       207.500000\n",
       "Carnivora          101.571429\n",
       "Cetacea                   NaN\n",
       "Chiroptera          42.500000\n",
       "Cingulata          120.000000\n",
       "Didelphimorphia     13.000000\n",
       "Diprotodontia       17.000000\n",
       "Erinaceomorpha      42.000000\n",
       "Hyracoidea         212.500000\n",
       "Lagomorpha          31.000000\n",
       "Monotremata         28.000000\n",
       "Perissodactyla     364.333333\n",
       "Pilosa                    NaN\n",
       "Primates           182.300000\n",
       "Proboscidea        634.500000\n",
       "Rodentia            40.600000\n",
       "Scandentia          46.000000\n",
       "Soricomorpha        31.166667\n",
       "Name: Gestation, dtype: float64"
      ]
     },
     "execution_count": 9,
     "metadata": {},
     "output_type": "execute_result"
    }
   ],
   "source": [
    "df.groupby(by=[\"Order\"])['Gestation'].mean()"
   ]
  },
  {
   "cell_type": "code",
   "execution_count": 10,
   "id": "a028df77",
   "metadata": {},
   "outputs": [
    {
     "data": {
      "text/plain": [
       "Order\n",
       "Afrosoricida        4.500000\n",
       "Artiodactyla       23.666667\n",
       "Carnivora          22.387500\n",
       "Cetacea                  NaN\n",
       "Chiroptera         21.500000\n",
       "Cingulata           6.750000\n",
       "Didelphimorphia     4.000000\n",
       "Diprotodontia      13.000000\n",
       "Erinaceomorpha      6.000000\n",
       "Hyracoidea          6.750000\n",
       "Lagomorpha         18.000000\n",
       "Monotremata        50.000000\n",
       "Perissodactyla     38.800000\n",
       "Pilosa                   NaN\n",
       "Primates           32.460000\n",
       "Proboscidea        53.800000\n",
       "Rodentia            5.700000\n",
       "Scandentia          2.300000\n",
       "Soricomorpha        2.900000\n",
       "Name: LifeSpan, dtype: float64"
      ]
     },
     "execution_count": 10,
     "metadata": {},
     "output_type": "execute_result"
    }
   ],
   "source": [
    "df.groupby(by=[\"Order\"])['LifeSpan'].mean()"
   ]
  },
  {
   "cell_type": "code",
   "execution_count": 11,
   "id": "0b3ddf9d",
   "metadata": {},
   "outputs": [
    {
     "data": {
      "text/plain": [
       "['Rodentia',\n",
       " 'Primates',\n",
       " 'Artiodactyla',\n",
       " 'Pilosa',\n",
       " 'Carnivora',\n",
       " 'Cingulata',\n",
       " 'Lagomorpha',\n",
       " 'Cetacea',\n",
       " 'Didelphimorphia',\n",
       " 'Proboscidea',\n",
       " 'Perissodactyla',\n",
       " 'Erinaceomorpha',\n",
       " 'Diprotodontia',\n",
       " 'Hyracoidea',\n",
       " 'Soricomorpha',\n",
       " 'Monotremata',\n",
       " 'Afrosoricida',\n",
       " 'Scandentia',\n",
       " 'Chiroptera']"
      ]
     },
     "execution_count": 11,
     "metadata": {},
     "output_type": "execute_result"
    }
   ],
   "source": [
    "y=df.Order.unique().tolist()\n",
    "y"
   ]
  },
  {
   "cell_type": "code",
   "execution_count": 12,
   "id": "f77d340a",
   "metadata": {},
   "outputs": [],
   "source": [
    "y.remove('Pilosa')\n",
    "y.remove('Cetacea')"
   ]
  },
  {
   "cell_type": "code",
   "execution_count": 13,
   "id": "eaea5619",
   "metadata": {},
   "outputs": [],
   "source": [
    "for  i in y:\n",
    "    \n",
    "    df.loc[df.Order==i,\"Predation\"]=df.loc[df.Order ==i,\"Predation\"].fillna(round(df[(df.Order==i) ][\"Predation\"].mean()))\n",
    "    df.loc[df.Order==i,\"Exposure\"]=df.loc[df.Order ==i,\"Exposure\"].fillna(round(df[(df.Order==i)][\"Predation\"].mean()))\n",
    "    df.loc[df.Order==i,\"Danger\"]=df.loc[df.Order ==i,\"Danger\"].fillna(round(df[(df.Order==i) ][\"Danger\"].mean()))\n",
    "    df.loc[df.Order==i,\"Gestation\"]=df.loc[df.Order ==i,\"Gestation\"].fillna(round(df[(df.Order==i) ][\"Gestation\"].mean()))\n",
    "    df.loc[df.Order==i,\"LifeSpan\"]=df.loc[df.Order ==i,\"LifeSpan\"].fillna(round(df[(df.Order==i) ][\"LifeSpan\"].mean()))\n",
    "    "
   ]
  },
  {
   "cell_type": "code",
   "execution_count": 14,
   "id": "7803cef1",
   "metadata": {},
   "outputs": [
    {
     "data": {
      "text/html": [
       "<div>\n",
       "<style scoped>\n",
       "    .dataframe tbody tr th:only-of-type {\n",
       "        vertical-align: middle;\n",
       "    }\n",
       "\n",
       "    .dataframe tbody tr th {\n",
       "        vertical-align: top;\n",
       "    }\n",
       "\n",
       "    .dataframe thead th {\n",
       "        text-align: right;\n",
       "    }\n",
       "</style>\n",
       "<table border=\"1\" class=\"dataframe\">\n",
       "  <thead>\n",
       "    <tr style=\"text-align: right;\">\n",
       "      <th></th>\n",
       "      <th>TotalSleep</th>\n",
       "      <th>Family</th>\n",
       "      <th>Vore</th>\n",
       "      <th>BodyWt</th>\n",
       "      <th>LifeSpan</th>\n",
       "      <th>Gestation</th>\n",
       "      <th>Predation</th>\n",
       "      <th>Exposure</th>\n",
       "      <th>Danger</th>\n",
       "    </tr>\n",
       "  </thead>\n",
       "  <tbody>\n",
       "    <tr>\n",
       "      <th>0</th>\n",
       "      <td>7.7</td>\n",
       "      <td>Octodontidae</td>\n",
       "      <td>herbi</td>\n",
       "      <td>0.210</td>\n",
       "      <td>6.0</td>\n",
       "      <td>41.0</td>\n",
       "      <td>4.0</td>\n",
       "      <td>4.0</td>\n",
       "      <td>3.0</td>\n",
       "    </tr>\n",
       "    <tr>\n",
       "      <th>1</th>\n",
       "      <td>17.0</td>\n",
       "      <td>Aotidae</td>\n",
       "      <td>omni</td>\n",
       "      <td>0.480</td>\n",
       "      <td>12.0</td>\n",
       "      <td>140.0</td>\n",
       "      <td>2.0</td>\n",
       "      <td>2.0</td>\n",
       "      <td>2.0</td>\n",
       "    </tr>\n",
       "    <tr>\n",
       "      <th>2</th>\n",
       "      <td>14.4</td>\n",
       "      <td>Aplodontiidae</td>\n",
       "      <td>herbi</td>\n",
       "      <td>1.350</td>\n",
       "      <td>6.0</td>\n",
       "      <td>45.0</td>\n",
       "      <td>3.0</td>\n",
       "      <td>1.0</td>\n",
       "      <td>3.0</td>\n",
       "    </tr>\n",
       "    <tr>\n",
       "      <th>3</th>\n",
       "      <td>4.0</td>\n",
       "      <td>Bovidae</td>\n",
       "      <td>herbi</td>\n",
       "      <td>600.000</td>\n",
       "      <td>30.0</td>\n",
       "      <td>281.0</td>\n",
       "      <td>5.0</td>\n",
       "      <td>5.0</td>\n",
       "      <td>5.0</td>\n",
       "    </tr>\n",
       "    <tr>\n",
       "      <th>4</th>\n",
       "      <td>5.3</td>\n",
       "      <td>Bovidae</td>\n",
       "      <td>herbi</td>\n",
       "      <td>33.500</td>\n",
       "      <td>20.0</td>\n",
       "      <td>148.0</td>\n",
       "      <td>5.0</td>\n",
       "      <td>5.0</td>\n",
       "      <td>5.0</td>\n",
       "    </tr>\n",
       "    <tr>\n",
       "      <th>...</th>\n",
       "      <td>...</td>\n",
       "      <td>...</td>\n",
       "      <td>...</td>\n",
       "      <td>...</td>\n",
       "      <td>...</td>\n",
       "      <td>...</td>\n",
       "      <td>...</td>\n",
       "      <td>...</td>\n",
       "      <td>...</td>\n",
       "    </tr>\n",
       "    <tr>\n",
       "      <th>82</th>\n",
       "      <td>15.6</td>\n",
       "      <td>Tenrecidae</td>\n",
       "      <td>omni</td>\n",
       "      <td>0.900</td>\n",
       "      <td>4.5</td>\n",
       "      <td>60.0</td>\n",
       "      <td>2.0</td>\n",
       "      <td>1.0</td>\n",
       "      <td>2.0</td>\n",
       "    </tr>\n",
       "    <tr>\n",
       "      <th>83</th>\n",
       "      <td>8.9</td>\n",
       "      <td>Tupaiidae</td>\n",
       "      <td>omni</td>\n",
       "      <td>0.104</td>\n",
       "      <td>2.3</td>\n",
       "      <td>46.0</td>\n",
       "      <td>3.0</td>\n",
       "      <td>2.0</td>\n",
       "      <td>2.0</td>\n",
       "    </tr>\n",
       "    <tr>\n",
       "      <th>84</th>\n",
       "      <td>19.7</td>\n",
       "      <td>Vespertilionidae</td>\n",
       "      <td>insecti</td>\n",
       "      <td>0.023</td>\n",
       "      <td>19.0</td>\n",
       "      <td>35.0</td>\n",
       "      <td>1.0</td>\n",
       "      <td>1.0</td>\n",
       "      <td>1.0</td>\n",
       "    </tr>\n",
       "    <tr>\n",
       "      <th>85</th>\n",
       "      <td>19.9</td>\n",
       "      <td>Vespertilionidae</td>\n",
       "      <td>insecti</td>\n",
       "      <td>0.010</td>\n",
       "      <td>24.0</td>\n",
       "      <td>50.0</td>\n",
       "      <td>1.0</td>\n",
       "      <td>1.0</td>\n",
       "      <td>1.0</td>\n",
       "    </tr>\n",
       "    <tr>\n",
       "      <th>86</th>\n",
       "      <td>6.3</td>\n",
       "      <td>Viverridae</td>\n",
       "      <td>carni</td>\n",
       "      <td>2.000</td>\n",
       "      <td>34.0</td>\n",
       "      <td>102.0</td>\n",
       "      <td>1.0</td>\n",
       "      <td>2.0</td>\n",
       "      <td>1.0</td>\n",
       "    </tr>\n",
       "  </tbody>\n",
       "</table>\n",
       "<p>87 rows × 9 columns</p>\n",
       "</div>"
      ],
      "text/plain": [
       "    TotalSleep            Family     Vore   BodyWt  LifeSpan  Gestation  \\\n",
       "0          7.7      Octodontidae    herbi    0.210       6.0       41.0   \n",
       "1         17.0           Aotidae     omni    0.480      12.0      140.0   \n",
       "2         14.4     Aplodontiidae    herbi    1.350       6.0       45.0   \n",
       "3          4.0           Bovidae    herbi  600.000      30.0      281.0   \n",
       "4          5.3           Bovidae    herbi   33.500      20.0      148.0   \n",
       "..         ...               ...      ...      ...       ...        ...   \n",
       "82        15.6        Tenrecidae     omni    0.900       4.5       60.0   \n",
       "83         8.9         Tupaiidae     omni    0.104       2.3       46.0   \n",
       "84        19.7  Vespertilionidae  insecti    0.023      19.0       35.0   \n",
       "85        19.9  Vespertilionidae  insecti    0.010      24.0       50.0   \n",
       "86         6.3        Viverridae    carni    2.000      34.0      102.0   \n",
       "\n",
       "    Predation  Exposure  Danger  \n",
       "0         4.0       4.0     3.0  \n",
       "1         2.0       2.0     2.0  \n",
       "2         3.0       1.0     3.0  \n",
       "3         5.0       5.0     5.0  \n",
       "4         5.0       5.0     5.0  \n",
       "..        ...       ...     ...  \n",
       "82        2.0       1.0     2.0  \n",
       "83        3.0       2.0     2.0  \n",
       "84        1.0       1.0     1.0  \n",
       "85        1.0       1.0     1.0  \n",
       "86        1.0       2.0     1.0  \n",
       "\n",
       "[87 rows x 9 columns]"
      ]
     },
     "execution_count": 14,
     "metadata": {},
     "output_type": "execute_result"
    }
   ],
   "source": [
    "df=df.drop([\"Species\", \"Genus\",\"Order\", \"Conservation\", \"Dreaming\", \"NonDreaming\",\"Awake\",\"BrainWt\"], axis=1)\n",
    "df\n"
   ]
  },
  {
   "cell_type": "code",
   "execution_count": 15,
   "id": "f85676d0",
   "metadata": {},
   "outputs": [
    {
     "data": {
      "text/plain": [
       "Index([6, 29, 30, 63], dtype='int64')"
      ]
     },
     "execution_count": 15,
     "metadata": {},
     "output_type": "execute_result"
    }
   ],
   "source": [
    "index_with_nan = df.index[df.isnull().any(axis=1)]\n",
    "index_with_nan"
   ]
  },
  {
   "cell_type": "code",
   "execution_count": 16,
   "id": "11216e97",
   "metadata": {},
   "outputs": [
    {
     "data": {
      "text/html": [
       "<div>\n",
       "<style scoped>\n",
       "    .dataframe tbody tr th:only-of-type {\n",
       "        vertical-align: middle;\n",
       "    }\n",
       "\n",
       "    .dataframe tbody tr th {\n",
       "        vertical-align: top;\n",
       "    }\n",
       "\n",
       "    .dataframe thead th {\n",
       "        text-align: right;\n",
       "    }\n",
       "</style>\n",
       "<table border=\"1\" class=\"dataframe\">\n",
       "  <thead>\n",
       "    <tr style=\"text-align: right;\">\n",
       "      <th></th>\n",
       "      <th>TotalSleep</th>\n",
       "      <th>Family</th>\n",
       "      <th>Vore</th>\n",
       "      <th>BodyWt</th>\n",
       "      <th>LifeSpan</th>\n",
       "      <th>Gestation</th>\n",
       "      <th>Predation</th>\n",
       "      <th>Exposure</th>\n",
       "      <th>Danger</th>\n",
       "    </tr>\n",
       "  </thead>\n",
       "  <tbody>\n",
       "    <tr>\n",
       "      <th>6</th>\n",
       "      <td>14.4</td>\n",
       "      <td>Bradypodidae</td>\n",
       "      <td>herbi</td>\n",
       "      <td>3.85</td>\n",
       "      <td>NaN</td>\n",
       "      <td>NaN</td>\n",
       "      <td>NaN</td>\n",
       "      <td>NaN</td>\n",
       "      <td>NaN</td>\n",
       "    </tr>\n",
       "    <tr>\n",
       "      <th>29</th>\n",
       "      <td>2.7</td>\n",
       "      <td>Delphinidae</td>\n",
       "      <td>carni</td>\n",
       "      <td>800.00</td>\n",
       "      <td>NaN</td>\n",
       "      <td>NaN</td>\n",
       "      <td>NaN</td>\n",
       "      <td>NaN</td>\n",
       "      <td>NaN</td>\n",
       "    </tr>\n",
       "    <tr>\n",
       "      <th>30</th>\n",
       "      <td>5.2</td>\n",
       "      <td>Delphinidae</td>\n",
       "      <td>carni</td>\n",
       "      <td>173.33</td>\n",
       "      <td>NaN</td>\n",
       "      <td>NaN</td>\n",
       "      <td>NaN</td>\n",
       "      <td>NaN</td>\n",
       "      <td>NaN</td>\n",
       "    </tr>\n",
       "    <tr>\n",
       "      <th>63</th>\n",
       "      <td>5.6</td>\n",
       "      <td>Phocoenidae</td>\n",
       "      <td>carni</td>\n",
       "      <td>53.18</td>\n",
       "      <td>NaN</td>\n",
       "      <td>NaN</td>\n",
       "      <td>NaN</td>\n",
       "      <td>NaN</td>\n",
       "      <td>NaN</td>\n",
       "    </tr>\n",
       "  </tbody>\n",
       "</table>\n",
       "</div>"
      ],
      "text/plain": [
       "    TotalSleep        Family   Vore  BodyWt  LifeSpan  Gestation  Predation  \\\n",
       "6         14.4  Bradypodidae  herbi    3.85       NaN        NaN        NaN   \n",
       "29         2.7   Delphinidae  carni  800.00       NaN        NaN        NaN   \n",
       "30         5.2   Delphinidae  carni  173.33       NaN        NaN        NaN   \n",
       "63         5.6   Phocoenidae  carni   53.18       NaN        NaN        NaN   \n",
       "\n",
       "    Exposure  Danger  \n",
       "6        NaN     NaN  \n",
       "29       NaN     NaN  \n",
       "30       NaN     NaN  \n",
       "63       NaN     NaN  "
      ]
     },
     "execution_count": 16,
     "metadata": {},
     "output_type": "execute_result"
    }
   ],
   "source": [
    "df.loc[index_with_nan,:]"
   ]
  },
  {
   "cell_type": "code",
   "execution_count": 17,
   "id": "f2c39676",
   "metadata": {},
   "outputs": [
    {
     "data": {
      "text/html": [
       "<div>\n",
       "<style scoped>\n",
       "    .dataframe tbody tr th:only-of-type {\n",
       "        vertical-align: middle;\n",
       "    }\n",
       "\n",
       "    .dataframe tbody tr th {\n",
       "        vertical-align: top;\n",
       "    }\n",
       "\n",
       "    .dataframe thead th {\n",
       "        text-align: right;\n",
       "    }\n",
       "</style>\n",
       "<table border=\"1\" class=\"dataframe\">\n",
       "  <thead>\n",
       "    <tr style=\"text-align: right;\">\n",
       "      <th></th>\n",
       "      <th>TotalSleep</th>\n",
       "      <th>Family</th>\n",
       "      <th>Vore</th>\n",
       "      <th>BodyWt</th>\n",
       "      <th>LifeSpan</th>\n",
       "      <th>Gestation</th>\n",
       "      <th>Predation</th>\n",
       "      <th>Exposure</th>\n",
       "      <th>Danger</th>\n",
       "    </tr>\n",
       "  </thead>\n",
       "  <tbody>\n",
       "    <tr>\n",
       "      <th>0</th>\n",
       "      <td>7.7</td>\n",
       "      <td>Octodontidae</td>\n",
       "      <td>herbi</td>\n",
       "      <td>0.210</td>\n",
       "      <td>6.0</td>\n",
       "      <td>41.0</td>\n",
       "      <td>4.0</td>\n",
       "      <td>4.0</td>\n",
       "      <td>3.0</td>\n",
       "    </tr>\n",
       "    <tr>\n",
       "      <th>1</th>\n",
       "      <td>17.0</td>\n",
       "      <td>Aotidae</td>\n",
       "      <td>omni</td>\n",
       "      <td>0.480</td>\n",
       "      <td>12.0</td>\n",
       "      <td>140.0</td>\n",
       "      <td>2.0</td>\n",
       "      <td>2.0</td>\n",
       "      <td>2.0</td>\n",
       "    </tr>\n",
       "    <tr>\n",
       "      <th>2</th>\n",
       "      <td>14.4</td>\n",
       "      <td>Aplodontiidae</td>\n",
       "      <td>herbi</td>\n",
       "      <td>1.350</td>\n",
       "      <td>6.0</td>\n",
       "      <td>45.0</td>\n",
       "      <td>3.0</td>\n",
       "      <td>1.0</td>\n",
       "      <td>3.0</td>\n",
       "    </tr>\n",
       "    <tr>\n",
       "      <th>3</th>\n",
       "      <td>4.0</td>\n",
       "      <td>Bovidae</td>\n",
       "      <td>herbi</td>\n",
       "      <td>600.000</td>\n",
       "      <td>30.0</td>\n",
       "      <td>281.0</td>\n",
       "      <td>5.0</td>\n",
       "      <td>5.0</td>\n",
       "      <td>5.0</td>\n",
       "    </tr>\n",
       "    <tr>\n",
       "      <th>4</th>\n",
       "      <td>5.3</td>\n",
       "      <td>Bovidae</td>\n",
       "      <td>herbi</td>\n",
       "      <td>33.500</td>\n",
       "      <td>20.0</td>\n",
       "      <td>148.0</td>\n",
       "      <td>5.0</td>\n",
       "      <td>5.0</td>\n",
       "      <td>5.0</td>\n",
       "    </tr>\n",
       "    <tr>\n",
       "      <th>...</th>\n",
       "      <td>...</td>\n",
       "      <td>...</td>\n",
       "      <td>...</td>\n",
       "      <td>...</td>\n",
       "      <td>...</td>\n",
       "      <td>...</td>\n",
       "      <td>...</td>\n",
       "      <td>...</td>\n",
       "      <td>...</td>\n",
       "    </tr>\n",
       "    <tr>\n",
       "      <th>78</th>\n",
       "      <td>15.6</td>\n",
       "      <td>Tenrecidae</td>\n",
       "      <td>omni</td>\n",
       "      <td>0.900</td>\n",
       "      <td>4.5</td>\n",
       "      <td>60.0</td>\n",
       "      <td>2.0</td>\n",
       "      <td>1.0</td>\n",
       "      <td>2.0</td>\n",
       "    </tr>\n",
       "    <tr>\n",
       "      <th>79</th>\n",
       "      <td>8.9</td>\n",
       "      <td>Tupaiidae</td>\n",
       "      <td>omni</td>\n",
       "      <td>0.104</td>\n",
       "      <td>2.3</td>\n",
       "      <td>46.0</td>\n",
       "      <td>3.0</td>\n",
       "      <td>2.0</td>\n",
       "      <td>2.0</td>\n",
       "    </tr>\n",
       "    <tr>\n",
       "      <th>80</th>\n",
       "      <td>19.7</td>\n",
       "      <td>Vespertilionidae</td>\n",
       "      <td>insecti</td>\n",
       "      <td>0.023</td>\n",
       "      <td>19.0</td>\n",
       "      <td>35.0</td>\n",
       "      <td>1.0</td>\n",
       "      <td>1.0</td>\n",
       "      <td>1.0</td>\n",
       "    </tr>\n",
       "    <tr>\n",
       "      <th>81</th>\n",
       "      <td>19.9</td>\n",
       "      <td>Vespertilionidae</td>\n",
       "      <td>insecti</td>\n",
       "      <td>0.010</td>\n",
       "      <td>24.0</td>\n",
       "      <td>50.0</td>\n",
       "      <td>1.0</td>\n",
       "      <td>1.0</td>\n",
       "      <td>1.0</td>\n",
       "    </tr>\n",
       "    <tr>\n",
       "      <th>82</th>\n",
       "      <td>6.3</td>\n",
       "      <td>Viverridae</td>\n",
       "      <td>carni</td>\n",
       "      <td>2.000</td>\n",
       "      <td>34.0</td>\n",
       "      <td>102.0</td>\n",
       "      <td>1.0</td>\n",
       "      <td>2.0</td>\n",
       "      <td>1.0</td>\n",
       "    </tr>\n",
       "  </tbody>\n",
       "</table>\n",
       "<p>83 rows × 9 columns</p>\n",
       "</div>"
      ],
      "text/plain": [
       "    TotalSleep            Family     Vore   BodyWt  LifeSpan  Gestation  \\\n",
       "0          7.7      Octodontidae    herbi    0.210       6.0       41.0   \n",
       "1         17.0           Aotidae     omni    0.480      12.0      140.0   \n",
       "2         14.4     Aplodontiidae    herbi    1.350       6.0       45.0   \n",
       "3          4.0           Bovidae    herbi  600.000      30.0      281.0   \n",
       "4          5.3           Bovidae    herbi   33.500      20.0      148.0   \n",
       "..         ...               ...      ...      ...       ...        ...   \n",
       "78        15.6        Tenrecidae     omni    0.900       4.5       60.0   \n",
       "79         8.9         Tupaiidae     omni    0.104       2.3       46.0   \n",
       "80        19.7  Vespertilionidae  insecti    0.023      19.0       35.0   \n",
       "81        19.9  Vespertilionidae  insecti    0.010      24.0       50.0   \n",
       "82         6.3        Viverridae    carni    2.000      34.0      102.0   \n",
       "\n",
       "    Predation  Exposure  Danger  \n",
       "0         4.0       4.0     3.0  \n",
       "1         2.0       2.0     2.0  \n",
       "2         3.0       1.0     3.0  \n",
       "3         5.0       5.0     5.0  \n",
       "4         5.0       5.0     5.0  \n",
       "..        ...       ...     ...  \n",
       "78        2.0       1.0     2.0  \n",
       "79        3.0       2.0     2.0  \n",
       "80        1.0       1.0     1.0  \n",
       "81        1.0       1.0     1.0  \n",
       "82        1.0       2.0     1.0  \n",
       "\n",
       "[83 rows x 9 columns]"
      ]
     },
     "execution_count": 17,
     "metadata": {},
     "output_type": "execute_result"
    }
   ],
   "source": [
    "df.drop(index_with_nan, inplace=True)\n",
    "df.reset_index(drop=True,inplace=True)\n",
    "df"
   ]
  },
  {
   "cell_type": "code",
   "execution_count": 18,
   "id": "fc565e4b",
   "metadata": {},
   "outputs": [
    {
     "data": {
      "text/plain": [
       "Text(0, 0.5, 'TotalSleep')"
      ]
     },
     "execution_count": 18,
     "metadata": {},
     "output_type": "execute_result"
    },
    {
     "data": {
      "image/png": "[encoded data removed]",
      "text/plain": [
       "<Figure size 640x480 with 1 Axes>"
      ]
     },
     "metadata": {},
     "output_type": "display_data"
    }
   ],
   "source": [
    "sns.regplot(x=df[\"LifeSpan\"], y=df[\"TotalSleep\"], data=df)\n",
    "plt.ylim(0,)\n",
    "plt.title(\"LifeSpan vs TotalSleep\")\n",
    "plt.xlabel(\"LifeSpan\")\n",
    "plt.ylabel(\"TotalSleep\")"
   ]
  },
  {
   "cell_type": "code",
   "execution_count": 19,
   "id": "76f00227",
   "metadata": {},
   "outputs": [
    {
     "data": {
      "text/plain": [
       "Text(0, 0.5, 'TotalSleep')"
      ]
     },
     "execution_count": 19,
     "metadata": {},
     "output_type": "execute_result"
    },
    {
     "data": {
      "image/png": "[encoded data removed]",
      "text/plain": [
       "<Figure size 640x480 with 1 Axes>"
      ]
     },
     "metadata": {},
     "output_type": "display_data"
    }
   ],
   "source": [
    "sns.regplot(x=df[\"Gestation\"], y=df[\"TotalSleep\"], data=df)\n",
    "plt.ylim(0,)\n",
    "plt.title(\"LifeSpan vs TotalSleep\")\n",
    "plt.xlabel(\"LifeSpan\")\n",
    "plt.ylabel(\"TotalSleep\")"
   ]
  },
  {
   "cell_type": "code",
   "execution_count": 20,
   "id": "0a18d9d7",
   "metadata": {},
   "outputs": [],
   "source": [
    "df = pd.concat([df,pd.get_dummies(df.Vore, dtype=int)],axis=1).drop(columns=\"Vore\")\n"
   ]
  },
  {
   "cell_type": "code",
   "execution_count": 21,
   "id": "81c37ebb",
   "metadata": {},
   "outputs": [],
   "source": [
    "from sklearn.model_selection import train_test_split"
   ]
  },
  {
   "cell_type": "code",
   "execution_count": 22,
   "id": "99e133b5",
   "metadata": {},
   "outputs": [],
   "source": [
    "df_train, df_test = train_test_split(df,test_size = 0.40, random_state=16)"
   ]
  },
  {
   "cell_type": "code",
   "execution_count": 23,
   "id": "11b7ae2b",
   "metadata": {},
   "outputs": [],
   "source": [
    "X_train = df_train.loc[:,['Danger','Predation','Gestation', 'Exposure','BodyWt','omni','herbi','carni','insecti','LifeSpan']].values\n",
    "y_train = df_train.TotalSleep.values\n"
   ]
  },
  {
   "cell_type": "code",
   "execution_count": 24,
   "id": "f9ddc5e8",
   "metadata": {},
   "outputs": [
    {
     "data": {
      "text/plain": [
       "array([13. , 17.4, 12.5,  9.8,  3.8,  9.1, 18. ,  9.4, 15.9, 11.5, 10.9,\n",
       "       10.6,  8.6,  9.6,  9.1,  9.7,  9.8, 14.4, 11.3,  8.4,  4.4,  1.9,\n",
       "       12.8, 11. , 14.2, 11.1, 14.6,  3.1, 14.9, 13.7,  4. , 10.1, 10. ,\n",
       "        8.7])"
      ]
     },
     "execution_count": 24,
     "metadata": {},
     "output_type": "execute_result"
    }
   ],
   "source": [
    "X_test = df_test.loc[:,['Danger','Predation','Gestation', 'Exposure','BodyWt','omni','herbi','carni','insecti','LifeSpan']].values\n",
    "y_test = df_test.TotalSleep.values\n",
    "y_test"
   ]
  },
  {
   "cell_type": "code",
   "execution_count": 25,
   "id": "adc8cf13",
   "metadata": {},
   "outputs": [],
   "source": [
    "from sklearn.linear_model import LinearRegression"
   ]
  },
  {
   "cell_type": "code",
   "execution_count": 26,
   "id": "65bff43b",
   "metadata": {},
   "outputs": [
    {
     "data": {
      "text/html": [
       "<style>#sk-container-id-1 {color: black;}#sk-container-id-1 pre{padding: 0;}#sk-container-id-1 div.sk-toggleable {background-color: white;}#sk-container-id-1 label.sk-toggleable__label {cursor: pointer;display: block;width: 100%;margin-bottom: 0;padding: 0.3em;box-sizing: border-box;text-align: center;}#sk-container-id-1 label.sk-toggleable__label-arrow:before {content: \"▸\";float: left;margin-right: 0.25em;color: #696969;}#sk-container-id-1 label.sk-toggleable__label-arrow:hover:before {color: black;}#sk-container-id-1 div.sk-estimator:hover label.sk-toggleable__label-arrow:before {color: black;}#sk-container-id-1 div.sk-toggleable__content {max-height: 0;max-width: 0;overflow: hidden;text-align: left;background-color: #f0f8ff;}#sk-container-id-1 div.sk-toggleable__content pre {margin: 0.2em;color: black;border-radius: 0.25em;background-color: #f0f8ff;}#sk-container-id-1 input.sk-toggleable__control:checked~div.sk-toggleable__content {max-height: 200px;max-width: 100%;overflow: auto;}#sk-container-id-1 input.sk-toggleable__control:checked~label.sk-toggleable__label-arrow:before {content: \"▾\";}#sk-container-id-1 div.sk-estimator input.sk-toggleable__control:checked~label.sk-toggleable__label {background-color: #d4ebff;}#sk-container-id-1 div.sk-label input.sk-toggleable__control:checked~label.sk-toggleable__label {background-color: #d4ebff;}#sk-container-id-1 input.sk-hidden--visually {border: 0;clip: rect(1px 1px 1px 1px);clip: rect(1px, 1px, 1px, 1px);height: 1px;margin: -1px;overflow: hidden;padding: 0;position: absolute;width: 1px;}#sk-container-id-1 div.sk-estimator {font-family: monospace;background-color: #f0f8ff;border: 1px dotted black;border-radius: 0.25em;box-sizing: border-box;margin-bottom: 0.5em;}#sk-container-id-1 div.sk-estimator:hover {background-color: #d4ebff;}#sk-container-id-1 div.sk-parallel-item::after {content: \"\";width: 100%;border-bottom: 1px solid gray;flex-grow: 1;}#sk-container-id-1 div.sk-label:hover label.sk-toggleable__label {background-color: #d4ebff;}#sk-container-id-1 div.sk-serial::before {content: \"\";position: absolute;border-left: 1px solid gray;box-sizing: border-box;top: 0;bottom: 0;left: 50%;z-index: 0;}#sk-container-id-1 div.sk-serial {display: flex;flex-direction: column;align-items: center;background-color: white;padding-right: 0.2em;padding-left: 0.2em;position: relative;}#sk-container-id-1 div.sk-item {position: relative;z-index: 1;}#sk-container-id-1 div.sk-parallel {display: flex;align-items: stretch;justify-content: center;background-color: white;position: relative;}#sk-container-id-1 div.sk-item::before, #sk-container-id-1 div.sk-parallel-item::before {content: \"\";position: absolute;border-left: 1px solid gray;box-sizing: border-box;top: 0;bottom: 0;left: 50%;z-index: -1;}#sk-container-id-1 div.sk-parallel-item {display: flex;flex-direction: column;z-index: 1;position: relative;background-color: white;}#sk-container-id-1 div.sk-parallel-item:first-child::after {align-self: flex-end;width: 50%;}#sk-container-id-1 div.sk-parallel-item:last-child::after {align-self: flex-start;width: 50%;}#sk-container-id-1 div.sk-parallel-item:only-child::after {width: 0;}#sk-container-id-1 div.sk-dashed-wrapped {border: 1px dashed gray;margin: 0 0.4em 0.5em 0.4em;box-sizing: border-box;padding-bottom: 0.4em;background-color: white;}#sk-container-id-1 div.sk-label label {font-family: monospace;font-weight: bold;display: inline-block;line-height: 1.2em;}#sk-container-id-1 div.sk-label-container {text-align: center;}#sk-container-id-1 div.sk-container {/* jupyter's `normalize.less` sets `[hidden] { display: none; }` but bootstrap.min.css set `[hidden] { display: none !important; }` so we also need the `!important` here to be able to override the default hidden behavior on the sphinx rendered scikit-learn.org. See: https://github.com/scikit-learn/scikit-learn/issues/21755 */display: inline-block !important;position: relative;}#sk-container-id-1 div.sk-text-repr-fallback {display: none;}</style><div id=\"sk-container-id-1\" class=\"sk-top-container\"><div class=\"sk-text-repr-fallback\"><pre>LinearRegression()</pre><b>In a Jupyter environment, please rerun this cell to show the HTML representation or trust the notebook. <br />On GitHub, the HTML representation is unable to render, please try loading this page with nbviewer.org.</b></div><div class=\"sk-container\" hidden><div class=\"sk-item\"><div class=\"sk-estimator sk-toggleable\"><input class=\"sk-toggleable__control sk-hidden--visually\" id=\"sk-estimator-id-1\" type=\"checkbox\" checked><label for=\"sk-estimator-id-1\" class=\"sk-toggleable__label sk-toggleable__label-arrow\">LinearRegression</label><div class=\"sk-toggleable__content\"><pre>LinearRegression()</pre></div></div></div></div></div>"
      ],
      "text/plain": [
       "LinearRegression()"
      ]
     },
     "execution_count": 26,
     "metadata": {},
     "output_type": "execute_result"
    }
   ],
   "source": [
    "x=LinearRegression()\n",
    "x.fit(X_train, y_train)"
   ]
  },
  {
   "cell_type": "code",
   "execution_count": 27,
   "id": "3e86e5cc",
   "metadata": {},
   "outputs": [],
   "source": [
    "y_test_predicted =  x.predict(X_test)"
   ]
  },
  {
   "cell_type": "code",
   "execution_count": 28,
   "id": "e7d2754e",
   "metadata": {},
   "outputs": [],
   "source": [
    "\n",
    "from sklearn.metrics import mean_squared_error, r2_score"
   ]
  },
  {
   "cell_type": "code",
   "execution_count": 29,
   "id": "59ea5253",
   "metadata": {},
   "outputs": [
    {
     "name": "stdout",
     "output_type": "stream",
     "text": [
      "Mean squared error: 6.04\n",
      "Coefficient of determination: 0.59\n"
     ]
    }
   ],
   "source": [
    "print(\"Mean squared error: %.2f\" % mean_squared_error(y_test, y_test_predicted))\n",
    "\n",
    "print(\"Coefficient of determination: %.2f\" % r2_score(y_test, y_test_predicted))"
   ]
  },
  {
   "cell_type": "code",
   "execution_count": 30,
   "id": "89c343a6",
   "metadata": {},
   "outputs": [
    {
     "data": {
      "text/plain": [
       "15.845676251229042"
      ]
     },
     "execution_count": 30,
     "metadata": {},
     "output_type": "execute_result"
    }
   ],
   "source": [
    "x.intercept_"
   ]
  },
  {
   "cell_type": "code",
   "execution_count": 31,
   "id": "a0e85c57",
   "metadata": {},
   "outputs": [
    {
     "data": {
      "text/plain": [
       "array([-3.49741788e+00,  1.80993317e+00, -1.51691317e-02,  2.08424152e-01,\n",
       "        5.00997163e-04, -4.26889415e-01, -3.57036517e-01, -1.08012475e+00,\n",
       "        1.86405068e+00, -1.99899041e-03])"
      ]
     },
     "execution_count": 31,
     "metadata": {},
     "output_type": "execute_result"
    }
   ],
   "source": [
    "x.coef_"
   ]
  },
  {
   "cell_type": "code",
   "execution_count": 32,
   "id": "9295b275",
   "metadata": {},
   "outputs": [
    {
     "data": {
      "text/plain": [
       "('Danger',\n",
       " 'Predation',\n",
       " 'Gestation',\n",
       " 'Exposure',\n",
       " 'BodyWt',\n",
       " 'omni',\n",
       " 'herbi',\n",
       " 'carni',\n",
       " 'insecti',\n",
       " 'LifeSpan')"
      ]
     },
     "execution_count": 32,
     "metadata": {},
     "output_type": "execute_result"
    }
   ],
   "source": [
    "'Danger','Predation','Gestation', 'Exposure','BodyWt','omni','herbi','carni','insecti','LifeSpan'"
   ]
  },
  {
   "cell_type": "code",
   "execution_count": 33,
   "id": "f68153fb",
   "metadata": {},
   "outputs": [],
   "source": [
    "from sklearn.model_selection import train_test_split"
   ]
  },
  {
   "cell_type": "code",
   "execution_count": 34,
   "id": "a0364092",
   "metadata": {},
   "outputs": [],
   "source": [
    "df_train, df_test = train_test_split(df,test_size = 0.40, random_state=16)"
   ]
  },
  {
   "cell_type": "code",
   "execution_count": 35,
   "id": "fb479c2c",
   "metadata": {},
   "outputs": [],
   "source": [
    "X_train = df_train.loc[:,['Danger','Predation','Gestation', 'Exposure','omni','herbi','carni','insecti']].values\n",
    "y_train = df_train.TotalSleep.values\n"
   ]
  },
  {
   "cell_type": "code",
   "execution_count": 36,
   "id": "4094d4bf",
   "metadata": {},
   "outputs": [
    {
     "data": {
      "text/plain": [
       "array([13. , 17.4, 12.5,  9.8,  3.8,  9.1, 18. ,  9.4, 15.9, 11.5, 10.9,\n",
       "       10.6,  8.6,  9.6,  9.1,  9.7,  9.8, 14.4, 11.3,  8.4,  4.4,  1.9,\n",
       "       12.8, 11. , 14.2, 11.1, 14.6,  3.1, 14.9, 13.7,  4. , 10.1, 10. ,\n",
       "        8.7])"
      ]
     },
     "execution_count": 36,
     "metadata": {},
     "output_type": "execute_result"
    }
   ],
   "source": [
    "X_test = df_test.loc[:,['Danger','Predation','Gestation', 'Exposure','omni','herbi','carni','insecti']].values\n",
    "y_test = df_test.TotalSleep.values\n",
    "y_test"
   ]
  },
  {
   "cell_type": "code",
   "execution_count": 37,
   "id": "c70b6634",
   "metadata": {},
   "outputs": [],
   "source": [
    "from sklearn.linear_model import LinearRegression"
   ]
  },
  {
   "cell_type": "code",
   "execution_count": 38,
   "id": "b54cbe2e",
   "metadata": {},
   "outputs": [
    {
     "data": {
      "text/html": [
       "<style>#sk-container-id-2 {color: black;}#sk-container-id-2 pre{padding: 0;}#sk-container-id-2 div.sk-toggleable {background-color: white;}#sk-container-id-2 label.sk-toggleable__label {cursor: pointer;display: block;width: 100%;margin-bottom: 0;padding: 0.3em;box-sizing: border-box;text-align: center;}#sk-container-id-2 label.sk-toggleable__label-arrow:before {content: \"▸\";float: left;margin-right: 0.25em;color: #696969;}#sk-container-id-2 label.sk-toggleable__label-arrow:hover:before {color: black;}#sk-container-id-2 div.sk-estimator:hover label.sk-toggleable__label-arrow:before {color: black;}#sk-container-id-2 div.sk-toggleable__content {max-height: 0;max-width: 0;overflow: hidden;text-align: left;background-color: #f0f8ff;}#sk-container-id-2 div.sk-toggleable__content pre {margin: 0.2em;color: black;border-radius: 0.25em;background-color: #f0f8ff;}#sk-container-id-2 input.sk-toggleable__control:checked~div.sk-toggleable__content {max-height: 200px;max-width: 100%;overflow: auto;}#sk-container-id-2 input.sk-toggleable__control:checked~label.sk-toggleable__label-arrow:before {content: \"▾\";}#sk-container-id-2 div.sk-estimator input.sk-toggleable__control:checked~label.sk-toggleable__label {background-color: #d4ebff;}#sk-container-id-2 div.sk-label input.sk-toggleable__control:checked~label.sk-toggleable__label {background-color: #d4ebff;}#sk-container-id-2 input.sk-hidden--visually {border: 0;clip: rect(1px 1px 1px 1px);clip: rect(1px, 1px, 1px, 1px);height: 1px;margin: -1px;overflow: hidden;padding: 0;position: absolute;width: 1px;}#sk-container-id-2 div.sk-estimator {font-family: monospace;background-color: #f0f8ff;border: 1px dotted black;border-radius: 0.25em;box-sizing: border-box;margin-bottom: 0.5em;}#sk-container-id-2 div.sk-estimator:hover {background-color: #d4ebff;}#sk-container-id-2 div.sk-parallel-item::after {content: \"\";width: 100%;border-bottom: 1px solid gray;flex-grow: 1;}#sk-container-id-2 div.sk-label:hover label.sk-toggleable__label {background-color: #d4ebff;}#sk-container-id-2 div.sk-serial::before {content: \"\";position: absolute;border-left: 1px solid gray;box-sizing: border-box;top: 0;bottom: 0;left: 50%;z-index: 0;}#sk-container-id-2 div.sk-serial {display: flex;flex-direction: column;align-items: center;background-color: white;padding-right: 0.2em;padding-left: 0.2em;position: relative;}#sk-container-id-2 div.sk-item {position: relative;z-index: 1;}#sk-container-id-2 div.sk-parallel {display: flex;align-items: stretch;justify-content: center;background-color: white;position: relative;}#sk-container-id-2 div.sk-item::before, #sk-container-id-2 div.sk-parallel-item::before {content: \"\";position: absolute;border-left: 1px solid gray;box-sizing: border-box;top: 0;bottom: 0;left: 50%;z-index: -1;}#sk-container-id-2 div.sk-parallel-item {display: flex;flex-direction: column;z-index: 1;position: relative;background-color: white;}#sk-container-id-2 div.sk-parallel-item:first-child::after {align-self: flex-end;width: 50%;}#sk-container-id-2 div.sk-parallel-item:last-child::after {align-self: flex-start;width: 50%;}#sk-container-id-2 div.sk-parallel-item:only-child::after {width: 0;}#sk-container-id-2 div.sk-dashed-wrapped {border: 1px dashed gray;margin: 0 0.4em 0.5em 0.4em;box-sizing: border-box;padding-bottom: 0.4em;background-color: white;}#sk-container-id-2 div.sk-label label {font-family: monospace;font-weight: bold;display: inline-block;line-height: 1.2em;}#sk-container-id-2 div.sk-label-container {text-align: center;}#sk-container-id-2 div.sk-container {/* jupyter's `normalize.less` sets `[hidden] { display: none; }` but bootstrap.min.css set `[hidden] { display: none !important; }` so we also need the `!important` here to be able to override the default hidden behavior on the sphinx rendered scikit-learn.org. See: https://github.com/scikit-learn/scikit-learn/issues/21755 */display: inline-block !important;position: relative;}#sk-container-id-2 div.sk-text-repr-fallback {display: none;}</style><div id=\"sk-container-id-2\" class=\"sk-top-container\"><div class=\"sk-text-repr-fallback\"><pre>LinearRegression()</pre><b>In a Jupyter environment, please rerun this cell to show the HTML representation or trust the notebook. <br />On GitHub, the HTML representation is unable to render, please try loading this page with nbviewer.org.</b></div><div class=\"sk-container\" hidden><div class=\"sk-item\"><div class=\"sk-estimator sk-toggleable\"><input class=\"sk-toggleable__control sk-hidden--visually\" id=\"sk-estimator-id-2\" type=\"checkbox\" checked><label for=\"sk-estimator-id-2\" class=\"sk-toggleable__label sk-toggleable__label-arrow\">LinearRegression</label><div class=\"sk-toggleable__content\"><pre>LinearRegression()</pre></div></div></div></div></div>"
      ],
      "text/plain": [
       "LinearRegression()"
      ]
     },
     "execution_count": 38,
     "metadata": {},
     "output_type": "execute_result"
    }
   ],
   "source": [
    "x1=LinearRegression()\n",
    "x1.fit(X_train, y_train)"
   ]
  },
  {
   "cell_type": "code",
   "execution_count": 39,
   "id": "f04caf7b",
   "metadata": {},
   "outputs": [],
   "source": [
    "y_test_predicted1=  x1.predict(X_test)"
   ]
  },
  {
   "cell_type": "code",
   "execution_count": 40,
   "id": "e5c445b8",
   "metadata": {},
   "outputs": [],
   "source": [
    "\n",
    "from sklearn.metrics import mean_squared_error, r2_score"
   ]
  },
  {
   "cell_type": "code",
   "execution_count": 41,
   "id": "5dda6666",
   "metadata": {},
   "outputs": [
    {
     "name": "stdout",
     "output_type": "stream",
     "text": [
      "Mean squared error: 6.05\n",
      "Coefficient of determination: 0.59\n"
     ]
    }
   ],
   "source": [
    "print(\"Mean squared error: %.2f\" % mean_squared_error(y_test, y_test_predicted1))\n",
    "\n",
    "print(\"Coefficient of determination: %.2f\" % r2_score(y_test, y_test_predicted1))"
   ]
  },
  {
   "cell_type": "code",
   "execution_count": 42,
   "id": "1dc341a3",
   "metadata": {},
   "outputs": [
    {
     "data": {
      "text/plain": [
       "array([-3.49741788e+00,  1.80993317e+00, -1.51691317e-02,  2.08424152e-01,\n",
       "        5.00997163e-04, -4.26889415e-01, -3.57036517e-01, -1.08012475e+00,\n",
       "        1.86405068e+00, -1.99899041e-03])"
      ]
     },
     "execution_count": 42,
     "metadata": {},
     "output_type": "execute_result"
    }
   ],
   "source": [
    "x.coef_"
   ]
  },
  {
   "cell_type": "code",
   "execution_count": 43,
   "id": "5326f16b",
   "metadata": {},
   "outputs": [
    {
     "name": "stderr",
     "output_type": "stream",
     "text": [
      "C:\\Users\\kacik\\AppData\\Local\\Temp\\ipykernel_1696\\2863903275.py:6: UserWarning: \n",
      "\n",
      "`distplot` is a deprecated function and will be removed in seaborn v0.14.0.\n",
      "\n",
      "Please adapt your code to use either `displot` (a figure-level function with\n",
      "similar flexibility) or `kdeplot` (an axes-level function for kernel density plots).\n",
      "\n",
      "For a guide to updating your code to use the new functions, please see\n",
      "https://gist.github.com/mwaskom/de44147ed2974457ad6372750bbe5751\n",
      "\n",
      "  ax1 = sns.distplot(y_test, hist=False, color=\"r\", label=\"Actual Value\")\n",
      "C:\\Users\\kacik\\AppData\\Local\\Temp\\ipykernel_1696\\2863903275.py:7: UserWarning: \n",
      "\n",
      "`distplot` is a deprecated function and will be removed in seaborn v0.14.0.\n",
      "\n",
      "Please adapt your code to use either `displot` (a figure-level function with\n",
      "similar flexibility) or `kdeplot` (an axes-level function for kernel density plots).\n",
      "\n",
      "For a guide to updating your code to use the new functions, please see\n",
      "https://gist.github.com/mwaskom/de44147ed2974457ad6372750bbe5751\n",
      "\n",
      "  sns.distplot(y_test_predicted1, hist=False, color=\"b\", label=\"Fitted Values\" , ax=ax1)\n"
     ]
    },
    {
     "data": {
      "text/plain": [
       "<Axes: ylabel='Density'>"
      ]
     },
     "execution_count": 43,
     "metadata": {},
     "output_type": "execute_result"
    },
    {
     "data": {
      "image/png": "[encoded data removed]",
      "text/plain": [
       "<Figure size 1200x1000 with 1 Axes>"
      ]
     },
     "metadata": {},
     "output_type": "display_data"
    }
   ],
   "source": [
    "width = 12\n",
    "height = 10\n",
    "plt.figure(figsize=(width, height))\n",
    "\n",
    "\n",
    "ax1 = sns.distplot(y_test, hist=False, color=\"r\", label=\"Actual Value\")\n",
    "sns.distplot(y_test_predicted1, hist=False, color=\"b\", label=\"Fitted Values\" , ax=ax1)"
   ]
  },
  {
   "cell_type": "code",
   "execution_count": 44,
   "id": "ee6e7782",
   "metadata": {},
   "outputs": [],
   "source": [
    "from sklearn.ensemble import RandomForestRegressor"
   ]
  },
  {
   "cell_type": "code",
   "execution_count": 45,
   "id": "998a8b9e",
   "metadata": {},
   "outputs": [],
   "source": [
    "regr = RandomForestRegressor()"
   ]
  },
  {
   "cell_type": "code",
   "execution_count": 46,
   "id": "2ad6cd3e",
   "metadata": {},
   "outputs": [
    {
     "data": {
      "text/html": [
       "<style>#sk-container-id-3 {color: black;}#sk-container-id-3 pre{padding: 0;}#sk-container-id-3 div.sk-toggleable {background-color: white;}#sk-container-id-3 label.sk-toggleable__label {cursor: pointer;display: block;width: 100%;margin-bottom: 0;padding: 0.3em;box-sizing: border-box;text-align: center;}#sk-container-id-3 label.sk-toggleable__label-arrow:before {content: \"▸\";float: left;margin-right: 0.25em;color: #696969;}#sk-container-id-3 label.sk-toggleable__label-arrow:hover:before {color: black;}#sk-container-id-3 div.sk-estimator:hover label.sk-toggleable__label-arrow:before {color: black;}#sk-container-id-3 div.sk-toggleable__content {max-height: 0;max-width: 0;overflow: hidden;text-align: left;background-color: #f0f8ff;}#sk-container-id-3 div.sk-toggleable__content pre {margin: 0.2em;color: black;border-radius: 0.25em;background-color: #f0f8ff;}#sk-container-id-3 input.sk-toggleable__control:checked~div.sk-toggleable__content {max-height: 200px;max-width: 100%;overflow: auto;}#sk-container-id-3 input.sk-toggleable__control:checked~label.sk-toggleable__label-arrow:before {content: \"▾\";}#sk-container-id-3 div.sk-estimator input.sk-toggleable__control:checked~label.sk-toggleable__label {background-color: #d4ebff;}#sk-container-id-3 div.sk-label input.sk-toggleable__control:checked~label.sk-toggleable__label {background-color: #d4ebff;}#sk-container-id-3 input.sk-hidden--visually {border: 0;clip: rect(1px 1px 1px 1px);clip: rect(1px, 1px, 1px, 1px);height: 1px;margin: -1px;overflow: hidden;padding: 0;position: absolute;width: 1px;}#sk-container-id-3 div.sk-estimator {font-family: monospace;background-color: #f0f8ff;border: 1px dotted black;border-radius: 0.25em;box-sizing: border-box;margin-bottom: 0.5em;}#sk-container-id-3 div.sk-estimator:hover {background-color: #d4ebff;}#sk-container-id-3 div.sk-parallel-item::after {content: \"\";width: 100%;border-bottom: 1px solid gray;flex-grow: 1;}#sk-container-id-3 div.sk-label:hover label.sk-toggleable__label {background-color: #d4ebff;}#sk-container-id-3 div.sk-serial::before {content: \"\";position: absolute;border-left: 1px solid gray;box-sizing: border-box;top: 0;bottom: 0;left: 50%;z-index: 0;}#sk-container-id-3 div.sk-serial {display: flex;flex-direction: column;align-items: center;background-color: white;padding-right: 0.2em;padding-left: 0.2em;position: relative;}#sk-container-id-3 div.sk-item {position: relative;z-index: 1;}#sk-container-id-3 div.sk-parallel {display: flex;align-items: stretch;justify-content: center;background-color: white;position: relative;}#sk-container-id-3 div.sk-item::before, #sk-container-id-3 div.sk-parallel-item::before {content: \"\";position: absolute;border-left: 1px solid gray;box-sizing: border-box;top: 0;bottom: 0;left: 50%;z-index: -1;}#sk-container-id-3 div.sk-parallel-item {display: flex;flex-direction: column;z-index: 1;position: relative;background-color: white;}#sk-container-id-3 div.sk-parallel-item:first-child::after {align-self: flex-end;width: 50%;}#sk-container-id-3 div.sk-parallel-item:last-child::after {align-self: flex-start;width: 50%;}#sk-container-id-3 div.sk-parallel-item:only-child::after {width: 0;}#sk-container-id-3 div.sk-dashed-wrapped {border: 1px dashed gray;margin: 0 0.4em 0.5em 0.4em;box-sizing: border-box;padding-bottom: 0.4em;background-color: white;}#sk-container-id-3 div.sk-label label {font-family: monospace;font-weight: bold;display: inline-block;line-height: 1.2em;}#sk-container-id-3 div.sk-label-container {text-align: center;}#sk-container-id-3 div.sk-container {/* jupyter's `normalize.less` sets `[hidden] { display: none; }` but bootstrap.min.css set `[hidden] { display: none !important; }` so we also need the `!important` here to be able to override the default hidden behavior on the sphinx rendered scikit-learn.org. See: https://github.com/scikit-learn/scikit-learn/issues/21755 */display: inline-block !important;position: relative;}#sk-container-id-3 div.sk-text-repr-fallback {display: none;}</style><div id=\"sk-container-id-3\" class=\"sk-top-container\"><div class=\"sk-text-repr-fallback\"><pre>RandomForestRegressor()</pre><b>In a Jupyter environment, please rerun this cell to show the HTML representation or trust the notebook. <br />On GitHub, the HTML representation is unable to render, please try loading this page with nbviewer.org.</b></div><div class=\"sk-container\" hidden><div class=\"sk-item\"><div class=\"sk-estimator sk-toggleable\"><input class=\"sk-toggleable__control sk-hidden--visually\" id=\"sk-estimator-id-3\" type=\"checkbox\" checked><label for=\"sk-estimator-id-3\" class=\"sk-toggleable__label sk-toggleable__label-arrow\">RandomForestRegressor</label><div class=\"sk-toggleable__content\"><pre>RandomForestRegressor()</pre></div></div></div></div></div>"
      ],
      "text/plain": [
       "RandomForestRegressor()"
      ]
     },
     "execution_count": 46,
     "metadata": {},
     "output_type": "execute_result"
    }
   ],
   "source": [
    "regr.fit(X=X_train,y=y_train)"
   ]
  },
  {
   "cell_type": "code",
   "execution_count": 47,
   "id": "e68d1c34",
   "metadata": {},
   "outputs": [],
   "source": [
    "y_test_predicted_rf= regr.predict(X_test)"
   ]
  },
  {
   "cell_type": "code",
   "execution_count": 48,
   "id": "465f9930",
   "metadata": {},
   "outputs": [],
   "source": [
    "\n",
    "from sklearn.metrics import mean_squared_error, r2_score"
   ]
  },
  {
   "cell_type": "code",
   "execution_count": 49,
   "id": "5cee0fff",
   "metadata": {},
   "outputs": [
    {
     "name": "stdout",
     "output_type": "stream",
     "text": [
      "Mean squared error: 7.73\n",
      "Coefficient of determination: 0.47\n"
     ]
    }
   ],
   "source": [
    "print(\"Mean squared error: %.2f\" % mean_squared_error(y_test, y_test_predicted_rf))\n",
    "\n",
    "print(\"Coefficient of determination: %.2f\" % r2_score(y_test, y_test_predicted_rf))"
   ]
  },
  {
   "cell_type": "code",
   "execution_count": null,
   "id": "73c101c0",
   "metadata": {},
   "outputs": [],
   "source": []
  }
 ],
 "metadata": {
  "kernelspec": {
   "display_name": "Python 3 (ipykernel)",
   "language": "python",
   "name": "python3"
  },
  "language_info": {
   "codemirror_mode": {
    "name": "ipython",
    "version": 3
   },
   "file_extension": ".py",
   "mimetype": "text/x-python",
   "name": "python",
   "nbconvert_exporter": "python",
   "pygments_lexer": "ipython3",
   "version": "3.11.5"
  }
 },
 "nbformat": 4,
 "nbformat_minor": 5
}
